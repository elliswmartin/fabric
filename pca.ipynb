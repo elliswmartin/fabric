{
 "cells": [
  {
   "cell_type": "code",
   "execution_count": null,
   "metadata": {},
   "outputs": [],
   "source": [
    "from utils.feature_utils import extract_log_features, extract_hog_features, extract_normals_features, extract_gabor_features, extract_wavelet_features\n",
    "import pandas as pd\n",
    "from sklearn.preprocessing import StandardScaler, LabelEncoder\n",
    "import matplotlib.pyplot as plt\n",
    "from sklearn.decomposition import PCA\n",
    "import numpy as np\n"
   ]
  },
  {
   "cell_type": "code",
   "execution_count": null,
   "metadata": {},
   "outputs": [],
   "source": [
    "# Import training data from pickle file\n",
    "\n",
    "filename = './pkls/train_0406.pkl'\n",
    "train_df = pd.read_pickle(filename)"
   ]
  },
  {
   "cell_type": "markdown",
   "metadata": {},
   "source": [
    "PCA"
   ]
  },
  {
   "cell_type": "code",
   "execution_count": null,
   "metadata": {},
   "outputs": [],
   "source": [
    "# isolate the feature columns \n",
    "features = train_df.iloc[:, 2:]\n",
    "\n",
    "# standardize the features (important for PCA)\n",
    "scaler = StandardScaler()\n",
    "features_scaled = scaler.fit_transform(features)\n",
    "\n",
    "# perform PCA\n",
    "pca = PCA()\n",
    "pca.fit(features_scaled)\n",
    "\n",
    "# create a scree plot (explained variance ratios)\n",
    "plt.figure(figsize=(8, 6))\n",
    "plt.bar(range(1, len(pca.explained_variance_ratio_) + 1), pca.explained_variance_ratio_)\n",
    "plt.xlabel('Principal Component')\n",
    "plt.ylabel('Explained Variance Ratio')\n",
    "plt.title('PCA - 11 Scalar Components')\n",
    "plt.xticks(range(1, len(pca.explained_variance_ratio_) + 1))  # Ensure x-ticks for each component\n",
    "plt.show()"
   ]
  },
  {
   "cell_type": "code",
   "execution_count": null,
   "metadata": {},
   "outputs": [],
   "source": [
    "# Assuming 'pca' is your fitted PCA object from sklearn and 'feature_names' are your original feature names\n",
    "# Let's say there are N features\n",
    "N = len(pca.components_[0])\n",
    "feature_names = ['LoG Sum',\n",
    "                 'Normals Sum',\n",
    "                 'Gabor Sum',\n",
    "                 'BoVW Sum',\n",
    "                 'hog_mean', \n",
    "                 'hog_sum', \n",
    "                 'hog_var', \n",
    "                 'hog_skew', \n",
    "                 'hog_kurt',\n",
    "                 'wave_mean_cA', \n",
    "                 'wave_var_cA', \n",
    "                 'wave_mean_cD', \n",
    "                 'wave_var_cD'\n",
    "                 ]\n",
    "\n",
    "# Number of components to display\n",
    "num_components = 5\n",
    "\n",
    "colors = plt.cm.viridis(np.linspace(0, 1, N))\n",
    "\n",
    "fig, axs = plt.subplots(num_components, 1, figsize=(10, num_components * 4))\n",
    "\n",
    "# Iterate over the first 5 principal components\n",
    "for i in range(num_components):\n",
    "    # Get the component\n",
    "    component = pca.components_[i]\n",
    "    \n",
    "    # Create a bar plot for each component's feature contributions\n",
    "    axs[i].bar(feature_names, component, color=colors)\n",
    "    axs[i].set_title(f'Principal Component {i+1}')\n",
    "    axs[i].set_ylabel('Feature Contribution')\n",
    "    axs[i].set_xlabel('Features')\n",
    "    axs[i].tick_params(axis='x', rotation=45)  # Rotate feature names for readability\n",
    "\n",
    "plt.tight_layout()\n",
    "plt.show()"
   ]
  },
  {
   "cell_type": "code",
   "execution_count": null,
   "metadata": {},
   "outputs": [],
   "source": [
    "# PC1, PC2 component scores\n",
    "print(f\"Sum of first 2 components: {np.sum(pca.explained_variance_ratio_[:2])}\")\n",
    "\n",
    "variances = pca.explained_variance_ratio_\n",
    "\n",
    "cumulatives = [] \n",
    "\n",
    "for i in range(len(variances)):\n",
    "    if i == 0:\n",
    "        cumulative = variances[i]  # For the first element, cumulative sum is the variance itself\n",
    "    else:\n",
    "        cumulative += variances[i]  # Accumulate the current variance to the previous cumulative sum\n",
    "    cumulatives.append(cumulative)\n",
    "\n",
    "cumulatives\n",
    "# plot the explained variance (here we have to do it in the opposite side)\n",
    "plt.figure(figsize=(8, 6))\n",
    "plt.plot(np.arange(N)+1,\n",
    "         cumulatives,\n",
    "         marker='.');\n",
    "plt.ylabel(\"% variance\")\n",
    "plt.xlabel(\"Component Number\")\n",
    "plt.title(\"Variance Explained by each PCA\")\n",
    "plt.show()"
   ]
  },
  {
   "cell_type": "markdown",
   "metadata": {},
   "source": [
    "### PCA over Feature Vectors\n",
    "\n",
    "**Isi's notes** I will do it with 200 images so I can try them all\n",
    "\n",
    "# need 'in_imgs' code"
   ]
  },
  {
   "cell_type": "code",
   "execution_count": null,
   "metadata": {},
   "outputs": [],
   "source": [
    "# Feature vector extraction\n",
    "# in_imgs = X (image vectors), label_imgs = Y (labels)\n",
    "#LOG\n",
    "log_features_list = []\n",
    "\n",
    "for image_array in in_imgs[:200]:\n",
    "        log_feature = extract_log_features(image_array,scalar=False)\n",
    "        log_features_list.append(log_feature)\n",
    "\n",
    "log_features = np.vstack(log_features_list)\n",
    "print(log_features.shape)\n"
   ]
  },
  {
   "cell_type": "code",
   "execution_count": null,
   "metadata": {},
   "outputs": [],
   "source": [
    "#HOG\n",
    "hog_features_list = []\n",
    "\n",
    "for image_array in in_imgs[:200]:\n",
    "        hog_feature = extract_hog_features(image_array, 4, 20, scalar=False)\n",
    "        hog_features_list.append(hog_feature[np.newaxis, :])\n",
    "hog_features = np.vstack(hog_features_list) \n",
    "print(hog_features.shape)"
   ]
  },
  {
   "cell_type": "code",
   "execution_count": null,
   "metadata": {},
   "outputs": [],
   "source": [
    "#Normals (is crashing in my computer with the 22K image_vector) - consider not to flatten in the original function\n",
    "normals_features_list = []\n",
    "for image_array in in_imgs[:200]:\n",
    "    normals_feature = extract_normals_features(image_array, scalar=False)\n",
    "    normals_features_list.append(normals_feature)\n",
    "normals_features = np.vstack(normals_features_list) #NOTE np.vstack  will stack them vertically, which would mean each row represents the features of an image. \n",
    "print(normals_features.shape)"
   ]
  },
  {
   "cell_type": "code",
   "execution_count": null,
   "metadata": {},
   "outputs": [],
   "source": [
    "#Gabor features\n",
    "gabor_features_list = []\n",
    "for image_array in in_imgs[:200]:\n",
    "    gabor_feature = extract_gabor_features(image_array, frequency=0.6, theta=0, sigma=1.0, scalar=False)\n",
    "    gabor_features_list.append(gabor_feature)\n",
    "gabor_features = np.vstack(gabor_features_list)\n",
    "print(gabor_features.shape)"
   ]
  },
  {
   "cell_type": "code",
   "execution_count": null,
   "metadata": {},
   "outputs": [],
   "source": [
    "#Wavelet Features\n",
    "wavelet_features_list = []\n",
    "for image_array in in_imgs[:200]:\n",
    "    wavelet_feature = extract_wavelet_features(image_array, scalar=False)\n",
    "    wavelet_features_list.append(wavelet_feature)\n",
    "wavelet_features = np.vstack(wavelet_features_list)\n",
    "print(wavelet_features.shape)"
   ]
  },
  {
   "cell_type": "markdown",
   "metadata": {},
   "source": [
    "# the below likely needs to be redone because bovw had some implementation issues that have since been resolved - bovw should produce a 20 element feature vector for each image"
   ]
  },
  {
   "cell_type": "code",
   "execution_count": null,
   "metadata": {},
   "outputs": [],
   "source": [
    "#BoVW features\n",
    "bovw_features_list = []\n",
    "for image_array in in_imgs[:200]:\n",
    "    bovw_feature = extract_bovw_features(image_array, n_clusters=10,scalar=False)\n",
    "    bovw_features_list.append(bovw_feature)\n",
    "bovw_features = np.vstack(bovw_features_list)\n",
    "print(bovw_features.shape)"
   ]
  },
  {
   "cell_type": "markdown",
   "metadata": {},
   "source": [
    "### Run with functions from class"
   ]
  },
  {
   "cell_type": "code",
   "execution_count": null,
   "metadata": {},
   "outputs": [],
   "source": [
    "# Functions from class example\n",
    "def get_PCA(X_list, n_components=2):\n",
    "  pca_list = []\n",
    "  xpca_list = []\n",
    "  for X in X_list:\n",
    "    # .fit we are creating the axis\n",
    "    pca = PCA(n_components=n_components, svd_solver=\"randomized\", whiten=True).fit(X) #pca transformation, of each of our X (data structure), whiten=True (normalization step)\n",
    "    #doing the transformation into the new axis\n",
    "    X_pca = pca.transform(X)\n",
    "    pca_list.append(pca)\n",
    "    xpca_list.append(X_pca)\n",
    "  return pca_list, xpca_list\n",
    "\n",
    "def plot_PCA(X_list,labels, colors, n_components=2):\n",
    "  pca_list, xpca_list = get_PCA(X_list, n_components=n_components)\n",
    "\n",
    "  plt.figure(figsize=(15,5))\n",
    "  for i in range(len(X_list)):\n",
    "    plt.plot(np.cumsum(pca_list[i].explained_variance_ratio_), colors[i], label=labels[i])\n",
    "  plt.xticks(np.arange(n_components)+1)\n",
    "  plt.yticks(np.linspace(0, 1, 8))\n",
    "  plt.grid(True)\n",
    "  plt.xlabel('Number of components')\n",
    "  plt.ylabel('Explained Variances')\n",
    "  plt.legend()\n",
    "  plt.show()\n",
    "\n",
    "def get_tsne(X_list, n_components=2):\n",
    "  xtsne_list = []\n",
    "  for X in X_list:\n",
    "    tsne = TSNE(n_components=n_components, random_state=0)\n",
    "    X_tsne = tsne.fit_transform(X)\n",
    "    xtsne_list.append(X_tsne)\n",
    "  return xtsne_list"
   ]
  },
  {
   "cell_type": "code",
   "execution_count": null,
   "metadata": {},
   "outputs": [],
   "source": [
    "x = plot_PCA([log_features, \n",
    "              hog_features, \n",
    "              normals_features, \n",
    "              gabor_features, \n",
    "              wavelet_features], labels = ['log features', \n",
    "                                           'hog features', \n",
    "                                           'normals features', \n",
    "                                           'gabor features', \n",
    "                                           'wavelet features'], colors = ['b-', 'm-', 'r-', 'g-', 'c-'],n_components=50)"
   ]
  },
  {
   "cell_type": "code",
   "execution_count": null,
   "metadata": {},
   "outputs": [],
   "source": [
    "x_bovw = plot_PCA([bovw_features], ['Bovw'], ['r-'], n_components=10)"
   ]
  },
  {
   "cell_type": "code",
   "execution_count": null,
   "metadata": {},
   "outputs": [],
   "source": [
    "# dimensionality reduction\n",
    "X_log_pca, X_hog_pca, X_normals_pca, X_gabor_pca, X_wavelet_pca = get_PCA([log_features, hog_features, normals_features, gabor_features, wavelet_features], n_components=10)[-1]\n",
    "X_log_tsne, X_hog_tsne, X_normals_tsne, X_gabor_tsne, X_wavelet_tsne = get_tsne([log_features, hog_features, normals_features, gabor_features, wavelet_features], n_components=2)"
   ]
  },
  {
   "cell_type": "code",
   "execution_count": null,
   "metadata": {},
   "outputs": [],
   "source": [
    "def plot_classes(X, label, ax, title):\n",
    "  label_encoder = LabelEncoder()\n",
    "  y = label_encoder.fit_transform(label)\n",
    "\n",
    "  # color code each cluster (fabrics label (5))\n",
    "  colormap = plt.cm.tab20\n",
    "  colorst = [colormap(i) for i in np.linspace(0, 1.0, len(np.unique(y)))]\n",
    "\n",
    "  # project the features into 2 dimensions\n",
    "  for k in range(len(np.unique(y))):\n",
    "    ax.scatter(X[y==k, 0], X[y==k, 1], alpha=0.5, facecolors=colorst[k])\n",
    "\n",
    "  ax.set_title(title)"
   ]
  },
  {
   "cell_type": "code",
   "execution_count": null,
   "metadata": {},
   "outputs": [],
   "source": [
    "# plot results\n",
    "labels = label_imgs[:200]\n",
    "fig, ax = plt.subplots(nrows=5, ncols=2, figsize=(20,20))\n",
    "\n",
    "# y is the class labels (fabric=denim, wool, polyester, blended, )\n",
    "plot_classes( X_log_pca, labels, ax[0,0], title='LoG PCA')\n",
    "plot_classes(X_log_tsne, labels, ax[0,1], title='LoG tSNE')\n",
    "\n",
    "plot_classes( X_hog_pca, labels, ax[1,0], title='HoG PCA')\n",
    "plot_classes(X_hog_tsne, labels, ax[1,1], title='HoG tSNE')\n",
    "\n",
    "plot_classes( X_normals_pca, labels, ax[2,0], title='Normals PCA')\n",
    "plot_classes(X_normals_tsne, labels, ax[2,1], title='Normals tSNE')\n",
    "\n",
    "plot_classes( X_gabor_pca, labels, ax[3,0], title='Gabor PCA')\n",
    "plot_classes(X_gabor_tsne, labels, ax[3,1], title='Gabor tSNE')\n",
    "\n",
    "plot_classes( X_wavelet_pca, labels, ax[4,0], title='Wavelet PCA')\n",
    "plot_classes(X_wavelet_tsne, labels, ax[4,1], title='Wavelet tSNE')\n",
    "plt.show()"
   ]
  },
  {
   "cell_type": "code",
   "execution_count": null,
   "metadata": {},
   "outputs": [],
   "source": [
    "#BoVW only\n",
    "X_bovw_pca = get_PCA([bovw_features], n_components=2)[-1]\n",
    "X_bovw_tsne = get_tsne([bovw_features], n_components=2)"
   ]
  },
  {
   "cell_type": "code",
   "execution_count": null,
   "metadata": {},
   "outputs": [],
   "source": [
    "# plot BoVW results\n",
    "def plot_bovw(X, label, ax, title):\n",
    "    label_encoder = LabelEncoder()\n",
    "    y = label_encoder.fit_transform(label)\n",
    "\n",
    "    # color code each cluster (fabrics label (5))\n",
    "    colormap = plt.cm.tab20\n",
    "    colorst = [colormap(i) for i in np.linspace(0, 1.0, len(np.unique(y)))]\n",
    "\n",
    "    # project the features into 2 dimensions\n",
    "    for k in range(len(np.unique(y))):\n",
    "        # Access elements of X properly\n",
    "        ax.scatter([X[i][0] for i in range(len(X)) if y[i]==k],\n",
    "                   [X[i][1] for i in range(len(X)) if y[i]==k],\n",
    "                   alpha=0.5, facecolors=colorst[k])\n",
    "\n",
    "    ax.set_title(title)\n",
    "#plot\n",
    "labels = label_imgs[:200]\n",
    "fig, ax = plt.subplots(nrows=1, ncols=2, figsize=(10,5))\n",
    "\n",
    "# y is the class labels (fabric=denim, wool, polyester, blended, )\n",
    "plot_bovw(X_bovw_pca, labels, ax[0], title='BoVW PCA')\n",
    "plot_bovw(X_bovw_tsne, labels, ax[1], title='BoVW tSNE')\n",
    "plt.show()"
   ]
  }
 ],
 "metadata": {
  "language_info": {
   "name": "python"
  }
 },
 "nbformat": 4,
 "nbformat_minor": 2
}
