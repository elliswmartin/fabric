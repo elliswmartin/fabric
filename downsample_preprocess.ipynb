{
 "cells": [
  {
   "cell_type": "code",
   "execution_count": 100,
   "metadata": {},
   "outputs": [],
   "source": [
    "import os\n",
    "import random\n",
    "from collections import Counter\n",
    "import cv2\n",
    "import random\n",
    "import numpy as np\n",
    "from PIL import Image"
   ]
  },
  {
   "cell_type": "markdown",
   "metadata": {},
   "source": [
    "# Resize and Balance Down images\n"
   ]
  },
  {
   "cell_type": "code",
   "execution_count": 104,
   "metadata": {},
   "outputs": [],
   "source": [
    "def resize_image(input_path, output_path, target_size):\n",
    "    #Get the list of all image file names in the folder\n",
    "    image_files = os.listdir(input_path)\n",
    "    #downsample image\n",
    "    for filename in image_files:\n",
    "        image = cv2.imread(os.path.join(input_path, filename))\n",
    "        #resize image\n",
    "        resized_image = cv2.resize(image, target_size)\n",
    "        # Save resized image\n",
    "        cv2.imwrite(os.path.join(output_path,filename), resized_image)\n"
   ]
  },
  {
   "cell_type": "code",
   "execution_count": 105,
   "metadata": {},
   "outputs": [],
   "source": [
    "#balance images\n",
    "def balance_classes(folder_path, target_count, targe_size):\n",
    "    image_files = [filename for filename in os.listdir(folder_path) if not filename.startswith('.')]\n",
    "    #Count the number of images per class\n",
    "    class_counter = Counter([filename.split('_')[0] for filename in image_files])\n",
    "\n",
    "    for class_name, count in class_counter.items():\n",
    "        images = [filename for filename in image_files if filename.startswith(class_name)]\n",
    "        if count > target_count:\n",
    "            images_to_discard = random.sample(images, count-target_count)\n",
    "            for image_to_discard in images_to_discard:\n",
    "                os.remove(os.path.join(folder_path,image_to_discard))\n",
    "        elif count < target_count:\n",
    "            images_to_augment = random.choices(images, k=target_count - count)\n",
    "            while count < target_count:\n",
    "                for image_to_augment in images_to_augment:\n",
    "                    image_path = os.path.join(folder_path, image_to_augment)\n",
    "                    output_path = os.path.join(folder_path, image_to_augment)  # Output path should remain in the same folder\n",
    "                    augmented_output_path = output_path.replace('.png', '_augmented.png')  # Append '_augmented' to the filename\n",
    "\n",
    "                    # Augment the image\n",
    "                    image = cv2.imread(image_path)\n",
    "                    # Augmentation - rotate the image by a random angle\n",
    "                    angle = np.random.randint(-15, 15)  # Random angle between -15 and 15 degrees\n",
    "                    rows, cols, _ = image.shape\n",
    "                    rotation_matrix = cv2.getRotationMatrix2D((cols / 2, rows / 2), angle, 1)\n",
    "                    rotated_image = cv2.warpAffine(image, rotation_matrix, (cols, rows))\n",
    "                    # Save augmented image\n",
    "                    cv2.imwrite(augmented_output_path, rotated_image)\n",
    "\n",
    "                    # Optionally, resize the augmented image as well\n",
    "                    resized_augmented_image = cv2.resize(rotated_image, (targe_size))\n",
    "                    cv2.imwrite(augmented_output_path, resized_augmented_image)\n",
    "\n",
    "                    count +=1\n",
    "                    if count >= target_count:\n",
    "                        break\n"
   ]
  },
  {
   "cell_type": "code",
   "execution_count": 106,
   "metadata": {},
   "outputs": [],
   "source": [
    "train_folder = 'Subsamples/train'\n",
    "test_folder = 'Subsamples/test'\n",
    "resized_train_folder = 'Resized/train'\n",
    "resized_test_folder = 'Resized/test'"
   ]
  },
  {
   "cell_type": "code",
   "execution_count": 107,
   "metadata": {},
   "outputs": [],
   "source": [
    "#resize_image\n",
    "resize_image(test_folder, resized_test_folder, (100,100))"
   ]
  },
  {
   "cell_type": "code",
   "execution_count": 114,
   "metadata": {},
   "outputs": [],
   "source": [
    "#balance\n",
    "balance_classes(resized_test_folder,724, (100,100)) #target size is polyester"
   ]
  },
  {
   "cell_type": "code",
   "execution_count": 115,
   "metadata": {},
   "outputs": [
    {
     "data": {
      "text/plain": [
       "Counter({'Polyester': 724,\n",
       "         'Cotton': 1882,\n",
       "         'Blended': 1316,\n",
       "         'Wool': 288,\n",
       "         'Denim': 519})"
      ]
     },
     "execution_count": 115,
     "metadata": {},
     "output_type": "execute_result"
    }
   ],
   "source": [
    "image_files = os.listdir('Subsamples/test')\n",
    "class_counter = Counter([filename.split('_')[0] for filename in image_files])\n",
    "class_counter"
   ]
  },
  {
   "cell_type": "code",
   "execution_count": 116,
   "metadata": {},
   "outputs": [
    {
     "data": {
      "text/plain": [
       "Counter({'Polyester': 724,\n",
       "         'Cotton': 724,\n",
       "         'Blended': 724,\n",
       "         'Denim': 712,\n",
       "         'Wool': 598})"
      ]
     },
     "execution_count": 116,
     "metadata": {},
     "output_type": "execute_result"
    }
   ],
   "source": [
    "image_files = os.listdir('Resized/test')\n",
    "class_counter = Counter([filename.split('_')[0] for filename in image_files])\n",
    "class_counter"
   ]
  },
  {
   "cell_type": "code",
   "execution_count": 117,
   "metadata": {},
   "outputs": [],
   "source": [
    "#resize_image\n",
    "resize_image(train_folder, resized_train_folder, (100,100))"
   ]
  },
  {
   "cell_type": "code",
   "execution_count": 78,
   "metadata": {},
   "outputs": [
    {
     "data": {
      "text/plain": [
       "Counter({'Blended': 5260,\n",
       "         'Denim': 4146,\n",
       "         'Polyester': 2892,\n",
       "         'Cotton': 7526,\n",
       "         'Wool': 2304})"
      ]
     },
     "execution_count": 78,
     "metadata": {},
     "output_type": "execute_result"
    }
   ],
   "source": [
    "image_files = os.listdir('Subsamples/train')\n",
    "class_counter = Counter([filename.split('_')[0] for filename in image_files])\n",
    "class_counter"
   ]
  },
  {
   "cell_type": "code",
   "execution_count": 118,
   "metadata": {},
   "outputs": [
    {
     "data": {
      "text/plain": [
       "Counter({'Blended': 5260,\n",
       "         'Denim': 4146,\n",
       "         'Polyester': 2892,\n",
       "         'Cotton': 7526,\n",
       "         'Wool': 2304})"
      ]
     },
     "execution_count": 118,
     "metadata": {},
     "output_type": "execute_result"
    }
   ],
   "source": [
    "image_files = os.listdir('Resized/train')\n",
    "class_counter = Counter([filename.split('_')[0] for filename in image_files])\n",
    "class_counter"
   ]
  },
  {
   "cell_type": "code",
   "execution_count": 120,
   "metadata": {},
   "outputs": [],
   "source": [
    "#balance\n",
    "balance_classes(resized_train_folder,2892, (100,100)) #target size is polyester"
   ]
  },
  {
   "cell_type": "code",
   "execution_count": 121,
   "metadata": {},
   "outputs": [
    {
     "data": {
      "text/plain": [
       "Counter({'Polyester': 2892,\n",
       "         'Blended': 2892,\n",
       "         'Cotton': 2892,\n",
       "         'Denim': 2892,\n",
       "         'Wool': 2831})"
      ]
     },
     "execution_count": 121,
     "metadata": {},
     "output_type": "execute_result"
    }
   ],
   "source": [
    "image_files = os.listdir('Resized/train')\n",
    "class_counter = Counter([filename.split('_')[0] for filename in image_files])\n",
    "class_counter"
   ]
  },
  {
   "cell_type": "code",
   "execution_count": null,
   "metadata": {},
   "outputs": [],
   "source": []
  }
 ],
 "metadata": {
  "kernelspec": {
   "display_name": "Python 3.10.5 64-bit",
   "language": "python",
   "name": "python3"
  },
  "language_info": {
   "codemirror_mode": {
    "name": "ipython",
    "version": 3
   },
   "file_extension": ".py",
   "mimetype": "text/x-python",
   "name": "python",
   "nbconvert_exporter": "python",
   "pygments_lexer": "ipython3",
   "version": "3.10.5"
  },
  "vscode": {
   "interpreter": {
    "hash": "aee8b7b246df8f9039afb4144a1f6fd8d2ca17a180786b69acc140d282b71a49"
   }
  }
 },
 "nbformat": 4,
 "nbformat_minor": 2
}
